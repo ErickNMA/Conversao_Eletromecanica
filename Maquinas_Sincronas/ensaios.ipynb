{
 "cells": [
  {
   "cell_type": "code",
   "execution_count": 1,
   "metadata": {},
   "outputs": [],
   "source": [
    "# Importando as bibliotecas:\n",
    "import numpy as np\n",
    "import matplotlib.pyplot as plt\n",
    "import control as ct\n",
    "import scienceplots\n",
    "\n",
    "#Exibição dos gráficos em janela externa:\n",
    "%matplotlib qt\n",
    "\n",
    "# Configurações de plot:\n",
    "plt.style.use([\n",
    "    'grid',\n",
    "    'retro'\n",
    "])\n",
    "plt.rcParams['lines.linewidth'] = 2\n",
    "plt.rcParams['font.size'] = 16 \n",
    "plt.rcParams['figure.figsize'] = (12, 6)"
   ]
  },
  {
   "cell_type": "code",
   "execution_count": 2,
   "metadata": {},
   "outputs": [],
   "source": [
    "#Dados:\n",
    "cc = np.array([1.5, 3.0, 4.5, 6.0, 7.5, 9.0, 12.0])\n",
    "tl = np.array([550, 1100, 1640, 2000, 2200, 2320, 2420])"
   ]
  },
  {
   "cell_type": "code",
   "execution_count": 3,
   "metadata": {},
   "outputs": [],
   "source": [
    "#Cálculo do entreferro:\n",
    "p1 = [1.5, 550]\n",
    "p2 = [7.5, ((550*7.5)/1.5)]"
   ]
  },
  {
   "cell_type": "code",
   "execution_count": 4,
   "metadata": {},
   "outputs": [],
   "source": [
    "#Cáculo do ensaio de curto:\n",
    "p3 = [0, 0]\n",
    "p4 = [7.5, 131.4]"
   ]
  },
  {
   "cell_type": "code",
   "execution_count": 5,
   "metadata": {},
   "outputs": [
    {
     "name": "stderr",
     "output_type": "stream",
     "text": [
      "The PostScript backend does not support transparency; partially transparent artists will be rendered opaque.\n"
     ]
    }
   ],
   "source": [
    "fig, ax1 = plt.subplots()\n",
    "\n",
    "ax1.plot(cc, tl, color='C0', label='a vazio')\n",
    "ax1.plot((p1[0], p2[0]), (p1[1], p2[1]), color='C2', linestyle='dashed', label='entreferro')\n",
    "ax1.plot((7.5, p2[0]), (550, p2[1]), color='C3', linestyle='dotted')\n",
    "ax1.plot((0, p2[0]), (2750, p2[1]), color='C3', linestyle='dotted')\n",
    "ax1.scatter(p2[0], p2[1], color='C4', label='unsat', linewidths=5)\n",
    "ax1.plot((0, 7.5), (2200, 2200), color='C3', linestyle='dotted')\n",
    "ax1.scatter(7.5, 2200, color='C5', label='sat', linewidths=5)\n",
    "ax1.set_xlabel('Corrente de Campo [A]')\n",
    "ax1.tick_params(axis='y', labelcolor='C0')\n",
    "ax1.set_ylabel('Tensão de Linha Terminal [V]', color='C0')\n",
    "plt.legend()\n",
    "\n",
    "ax2 = ax1.twinx()\n",
    "ax2.plot((p3[0], p4[0]), (p3[1], p4[1]), color='C1', label='curto-circuito')\n",
    "ax2.tick_params(axis='y', labelcolor='C1')\n",
    "ax2.set_ylabel('Corrente de Armadura [A]', color='C1')\n",
    "\n",
    "plt.savefig('ensaios.eps', dpi=600, transparent=True, bbox_inches='tight')\n",
    "plt.show()"
   ]
  }
 ],
 "metadata": {
  "kernelspec": {
   "display_name": "Python 3",
   "language": "python",
   "name": "python3"
  },
  "language_info": {
   "codemirror_mode": {
    "name": "ipython",
    "version": 3
   },
   "file_extension": ".py",
   "mimetype": "text/x-python",
   "name": "python",
   "nbconvert_exporter": "python",
   "pygments_lexer": "ipython3",
   "version": "3.10.12"
  }
 },
 "nbformat": 4,
 "nbformat_minor": 2
}
